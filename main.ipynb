{
 "cells": [
  {
   "cell_type": "code",
   "id": "initial_id",
   "metadata": {
    "collapsed": true,
    "ExecuteTime": {
     "end_time": "2024-05-24T11:47:03.580832Z",
     "start_time": "2024-05-24T11:47:02.710655Z"
    }
   },
   "source": [
    "import numpy as np\n",
    "import pandas as pd\n",
    "import matplotlib.pyplot as plt\n",
    "import seaborn as sns\n",
    "from sklearn.compose import ColumnTransformer\n",
    "from sklearn.impute import SimpleImputer\n",
    "%matplotlib inline"
   ],
   "outputs": [],
   "execution_count": 1
  },
  {
   "metadata": {
    "ExecuteTime": {
     "end_time": "2024-05-24T11:47:03.606674Z",
     "start_time": "2024-05-24T11:47:03.580832Z"
    }
   },
   "cell_type": "code",
   "source": [
    "test_df = pd.read_csv(\"test.csv\")\n",
    "train_df = pd.read_csv(\"train.csv\")"
   ],
   "id": "c905a1590dc85c79",
   "outputs": [],
   "execution_count": 2
  },
  {
   "metadata": {
    "ExecuteTime": {
     "end_time": "2024-05-24T11:23:42.167874Z",
     "start_time": "2024-05-24T11:23:42.154695Z"
    }
   },
   "cell_type": "code",
   "source": "train_df.head() ",
   "id": "988c944cee2254c8",
   "outputs": [
    {
     "data": {
      "text/plain": [
       "   Id  MSSubClass MSZoning  LotFrontage  LotArea Street Alley LotShape  \\\n",
       "0   1          60       RL         65.0     8450   Pave   NaN      Reg   \n",
       "1   2          20       RL         80.0     9600   Pave   NaN      Reg   \n",
       "2   3          60       RL         68.0    11250   Pave   NaN      IR1   \n",
       "3   4          70       RL         60.0     9550   Pave   NaN      IR1   \n",
       "4   5          60       RL         84.0    14260   Pave   NaN      IR1   \n",
       "\n",
       "  LandContour Utilities  ... PoolQC Fence MiscFeature MiscVal MoSold YrSold  \\\n",
       "0         Lvl    AllPub  ...    NaN   NaN         NaN       0      2   2008   \n",
       "1         Lvl    AllPub  ...    NaN   NaN         NaN       0      5   2007   \n",
       "2         Lvl    AllPub  ...    NaN   NaN         NaN       0      9   2008   \n",
       "3         Lvl    AllPub  ...    NaN   NaN         NaN       0      2   2006   \n",
       "4         Lvl    AllPub  ...    NaN   NaN         NaN       0     12   2008   \n",
       "\n",
       "  SaleType  SaleCondition  SalePrice  YrMoSoldEncoded  \n",
       "0       WD         Normal     208500    159370.000000  \n",
       "1       WD         Normal     181500    169873.511628  \n",
       "2       WD         Normal     223500    169626.470588  \n",
       "3       WD        Abnorml     140000    194322.222222  \n",
       "4       WD         Normal     250000    175600.000000  \n",
       "\n",
       "[5 rows x 82 columns]"
      ],
      "text/html": [
       "<div>\n",
       "<style scoped>\n",
       "    .dataframe tbody tr th:only-of-type {\n",
       "        vertical-align: middle;\n",
       "    }\n",
       "\n",
       "    .dataframe tbody tr th {\n",
       "        vertical-align: top;\n",
       "    }\n",
       "\n",
       "    .dataframe thead th {\n",
       "        text-align: right;\n",
       "    }\n",
       "</style>\n",
       "<table border=\"1\" class=\"dataframe\">\n",
       "  <thead>\n",
       "    <tr style=\"text-align: right;\">\n",
       "      <th></th>\n",
       "      <th>Id</th>\n",
       "      <th>MSSubClass</th>\n",
       "      <th>MSZoning</th>\n",
       "      <th>LotFrontage</th>\n",
       "      <th>LotArea</th>\n",
       "      <th>Street</th>\n",
       "      <th>Alley</th>\n",
       "      <th>LotShape</th>\n",
       "      <th>LandContour</th>\n",
       "      <th>Utilities</th>\n",
       "      <th>...</th>\n",
       "      <th>PoolQC</th>\n",
       "      <th>Fence</th>\n",
       "      <th>MiscFeature</th>\n",
       "      <th>MiscVal</th>\n",
       "      <th>MoSold</th>\n",
       "      <th>YrSold</th>\n",
       "      <th>SaleType</th>\n",
       "      <th>SaleCondition</th>\n",
       "      <th>SalePrice</th>\n",
       "      <th>YrMoSoldEncoded</th>\n",
       "    </tr>\n",
       "  </thead>\n",
       "  <tbody>\n",
       "    <tr>\n",
       "      <th>0</th>\n",
       "      <td>1</td>\n",
       "      <td>60</td>\n",
       "      <td>RL</td>\n",
       "      <td>65.0</td>\n",
       "      <td>8450</td>\n",
       "      <td>Pave</td>\n",
       "      <td>NaN</td>\n",
       "      <td>Reg</td>\n",
       "      <td>Lvl</td>\n",
       "      <td>AllPub</td>\n",
       "      <td>...</td>\n",
       "      <td>NaN</td>\n",
       "      <td>NaN</td>\n",
       "      <td>NaN</td>\n",
       "      <td>0</td>\n",
       "      <td>2</td>\n",
       "      <td>2008</td>\n",
       "      <td>WD</td>\n",
       "      <td>Normal</td>\n",
       "      <td>208500</td>\n",
       "      <td>159370.000000</td>\n",
       "    </tr>\n",
       "    <tr>\n",
       "      <th>1</th>\n",
       "      <td>2</td>\n",
       "      <td>20</td>\n",
       "      <td>RL</td>\n",
       "      <td>80.0</td>\n",
       "      <td>9600</td>\n",
       "      <td>Pave</td>\n",
       "      <td>NaN</td>\n",
       "      <td>Reg</td>\n",
       "      <td>Lvl</td>\n",
       "      <td>AllPub</td>\n",
       "      <td>...</td>\n",
       "      <td>NaN</td>\n",
       "      <td>NaN</td>\n",
       "      <td>NaN</td>\n",
       "      <td>0</td>\n",
       "      <td>5</td>\n",
       "      <td>2007</td>\n",
       "      <td>WD</td>\n",
       "      <td>Normal</td>\n",
       "      <td>181500</td>\n",
       "      <td>169873.511628</td>\n",
       "    </tr>\n",
       "    <tr>\n",
       "      <th>2</th>\n",
       "      <td>3</td>\n",
       "      <td>60</td>\n",
       "      <td>RL</td>\n",
       "      <td>68.0</td>\n",
       "      <td>11250</td>\n",
       "      <td>Pave</td>\n",
       "      <td>NaN</td>\n",
       "      <td>IR1</td>\n",
       "      <td>Lvl</td>\n",
       "      <td>AllPub</td>\n",
       "      <td>...</td>\n",
       "      <td>NaN</td>\n",
       "      <td>NaN</td>\n",
       "      <td>NaN</td>\n",
       "      <td>0</td>\n",
       "      <td>9</td>\n",
       "      <td>2008</td>\n",
       "      <td>WD</td>\n",
       "      <td>Normal</td>\n",
       "      <td>223500</td>\n",
       "      <td>169626.470588</td>\n",
       "    </tr>\n",
       "    <tr>\n",
       "      <th>3</th>\n",
       "      <td>4</td>\n",
       "      <td>70</td>\n",
       "      <td>RL</td>\n",
       "      <td>60.0</td>\n",
       "      <td>9550</td>\n",
       "      <td>Pave</td>\n",
       "      <td>NaN</td>\n",
       "      <td>IR1</td>\n",
       "      <td>Lvl</td>\n",
       "      <td>AllPub</td>\n",
       "      <td>...</td>\n",
       "      <td>NaN</td>\n",
       "      <td>NaN</td>\n",
       "      <td>NaN</td>\n",
       "      <td>0</td>\n",
       "      <td>2</td>\n",
       "      <td>2006</td>\n",
       "      <td>WD</td>\n",
       "      <td>Abnorml</td>\n",
       "      <td>140000</td>\n",
       "      <td>194322.222222</td>\n",
       "    </tr>\n",
       "    <tr>\n",
       "      <th>4</th>\n",
       "      <td>5</td>\n",
       "      <td>60</td>\n",
       "      <td>RL</td>\n",
       "      <td>84.0</td>\n",
       "      <td>14260</td>\n",
       "      <td>Pave</td>\n",
       "      <td>NaN</td>\n",
       "      <td>IR1</td>\n",
       "      <td>Lvl</td>\n",
       "      <td>AllPub</td>\n",
       "      <td>...</td>\n",
       "      <td>NaN</td>\n",
       "      <td>NaN</td>\n",
       "      <td>NaN</td>\n",
       "      <td>0</td>\n",
       "      <td>12</td>\n",
       "      <td>2008</td>\n",
       "      <td>WD</td>\n",
       "      <td>Normal</td>\n",
       "      <td>250000</td>\n",
       "      <td>175600.000000</td>\n",
       "    </tr>\n",
       "  </tbody>\n",
       "</table>\n",
       "<p>5 rows × 82 columns</p>\n",
       "</div>"
      ]
     },
     "execution_count": 56,
     "metadata": {},
     "output_type": "execute_result"
    }
   ],
   "execution_count": 56
  },
  {
   "metadata": {},
   "cell_type": "markdown",
   "source": "<h2>Dealing with outliers</h2>",
   "id": "43c558d91f1510c1"
  },
  {
   "metadata": {},
   "cell_type": "code",
   "outputs": [],
   "execution_count": null,
   "source": [
    "# outlier notes:\n",
    "# TotalBsmtSF > 3000 price < 200000 BsmtQual = Ex\n",
    "# GrLivArea > 4000 price < 200000\n",
    "# take a look at PoolArea > 550 price > 700000"
   ],
   "id": "6247cb2bcb7e4e88"
  },
  {
   "metadata": {
    "ExecuteTime": {
     "end_time": "2024-05-24T11:47:19.793151Z",
     "start_time": "2024-05-24T11:47:19.789531Z"
    }
   },
   "cell_type": "code",
   "source": "outlier_indexes = train_df[(train_df[\"SalePrice\"]<200000) & (train_df[\"TotalBsmtSF\"]>3000)].index",
   "id": "a128504363146009",
   "outputs": [],
   "execution_count": 3
  },
  {
   "metadata": {
    "ExecuteTime": {
     "end_time": "2024-05-24T11:47:20.320280Z",
     "start_time": "2024-05-24T11:47:20.311179Z"
    }
   },
   "cell_type": "code",
   "source": "outlier_indexes",
   "id": "c8c8138daca0e9d6",
   "outputs": [
    {
     "data": {
      "text/plain": [
       "Index([523, 1298], dtype='int64')"
      ]
     },
     "execution_count": 4,
     "metadata": {},
     "output_type": "execute_result"
    }
   ],
   "execution_count": 4
  },
  {
   "metadata": {
    "ExecuteTime": {
     "end_time": "2024-05-24T11:47:21.253244Z",
     "start_time": "2024-05-24T11:47:21.248740Z"
    }
   },
   "cell_type": "code",
   "source": "train_df.drop(outlier_indexes,inplace=True)",
   "id": "91cb759a14e13845",
   "outputs": [],
   "execution_count": 5
  },
  {
   "metadata": {
    "ExecuteTime": {
     "end_time": "2024-05-24T11:47:21.751741Z",
     "start_time": "2024-05-24T11:47:21.739615Z"
    }
   },
   "cell_type": "code",
   "source": [
    "# everything about this house is perfect it`s a novelty here\n",
    "train_df[(train_df[\"PoolArea\"]>550) & (train_df[\"SalePrice\"]>700000)]"
   ],
   "id": "cddaba324c89031b",
   "outputs": [
    {
     "data": {
      "text/plain": [
       "        Id  MSSubClass MSZoning  LotFrontage  LotArea Street Alley LotShape  \\\n",
       "1182  1183          60       RL        160.0    15623   Pave   NaN      IR1   \n",
       "\n",
       "     LandContour Utilities  ... PoolArea PoolQC  Fence MiscFeature MiscVal  \\\n",
       "1182         Lvl    AllPub  ...      555     Ex  MnPrv         NaN       0   \n",
       "\n",
       "     MoSold YrSold  SaleType  SaleCondition  SalePrice  \n",
       "1182      7   2007        WD        Abnorml     745000  \n",
       "\n",
       "[1 rows x 81 columns]"
      ],
      "text/html": [
       "<div>\n",
       "<style scoped>\n",
       "    .dataframe tbody tr th:only-of-type {\n",
       "        vertical-align: middle;\n",
       "    }\n",
       "\n",
       "    .dataframe tbody tr th {\n",
       "        vertical-align: top;\n",
       "    }\n",
       "\n",
       "    .dataframe thead th {\n",
       "        text-align: right;\n",
       "    }\n",
       "</style>\n",
       "<table border=\"1\" class=\"dataframe\">\n",
       "  <thead>\n",
       "    <tr style=\"text-align: right;\">\n",
       "      <th></th>\n",
       "      <th>Id</th>\n",
       "      <th>MSSubClass</th>\n",
       "      <th>MSZoning</th>\n",
       "      <th>LotFrontage</th>\n",
       "      <th>LotArea</th>\n",
       "      <th>Street</th>\n",
       "      <th>Alley</th>\n",
       "      <th>LotShape</th>\n",
       "      <th>LandContour</th>\n",
       "      <th>Utilities</th>\n",
       "      <th>...</th>\n",
       "      <th>PoolArea</th>\n",
       "      <th>PoolQC</th>\n",
       "      <th>Fence</th>\n",
       "      <th>MiscFeature</th>\n",
       "      <th>MiscVal</th>\n",
       "      <th>MoSold</th>\n",
       "      <th>YrSold</th>\n",
       "      <th>SaleType</th>\n",
       "      <th>SaleCondition</th>\n",
       "      <th>SalePrice</th>\n",
       "    </tr>\n",
       "  </thead>\n",
       "  <tbody>\n",
       "    <tr>\n",
       "      <th>1182</th>\n",
       "      <td>1183</td>\n",
       "      <td>60</td>\n",
       "      <td>RL</td>\n",
       "      <td>160.0</td>\n",
       "      <td>15623</td>\n",
       "      <td>Pave</td>\n",
       "      <td>NaN</td>\n",
       "      <td>IR1</td>\n",
       "      <td>Lvl</td>\n",
       "      <td>AllPub</td>\n",
       "      <td>...</td>\n",
       "      <td>555</td>\n",
       "      <td>Ex</td>\n",
       "      <td>MnPrv</td>\n",
       "      <td>NaN</td>\n",
       "      <td>0</td>\n",
       "      <td>7</td>\n",
       "      <td>2007</td>\n",
       "      <td>WD</td>\n",
       "      <td>Abnorml</td>\n",
       "      <td>745000</td>\n",
       "    </tr>\n",
       "  </tbody>\n",
       "</table>\n",
       "<p>1 rows × 81 columns</p>\n",
       "</div>"
      ]
     },
     "execution_count": 6,
     "metadata": {},
     "output_type": "execute_result"
    }
   ],
   "execution_count": 6
  },
  {
   "metadata": {},
   "cell_type": "markdown",
   "source": [
    "<h2>Handling missing values\n",
    "</h2>"
   ],
   "id": "aee4f8bf83706765"
  },
  {
   "metadata": {
    "ExecuteTime": {
     "end_time": "2024-05-24T11:47:23.572621Z",
     "start_time": "2024-05-24T11:47:23.569647Z"
    }
   },
   "cell_type": "code",
   "source": [
    "def percent_missing(df):\n",
    "    percent_nan = df.isna().sum() / len(df)\n",
    "    percent_nan = percent_nan[percent_nan > 0].sort_values()\n",
    "    return percent_nan"
   ],
   "id": "8d04d34fb4920a75",
   "outputs": [],
   "execution_count": 7
  },
  {
   "metadata": {
    "ExecuteTime": {
     "end_time": "2024-05-24T11:47:24.635494Z",
     "start_time": "2024-05-24T11:47:24.624993Z"
    }
   },
   "cell_type": "code",
   "source": "percent_missing(train_df)",
   "id": "d0b31705b8e31621",
   "outputs": [
    {
     "data": {
      "text/plain": [
       "Electrical      0.000686\n",
       "MasVnrArea      0.005487\n",
       "BsmtQual        0.025377\n",
       "BsmtCond        0.025377\n",
       "BsmtFinType1    0.025377\n",
       "BsmtExposure    0.026063\n",
       "BsmtFinType2    0.026063\n",
       "GarageCond      0.055556\n",
       "GarageQual      0.055556\n",
       "GarageFinish    0.055556\n",
       "GarageYrBlt     0.055556\n",
       "GarageType      0.055556\n",
       "LotFrontage     0.177641\n",
       "FireplaceQu     0.473251\n",
       "MasVnrType      0.598080\n",
       "Fence           0.807270\n",
       "Alley           0.937586\n",
       "MiscFeature     0.962963\n",
       "PoolQC          0.995885\n",
       "dtype: float64"
      ]
     },
     "execution_count": 8,
     "metadata": {},
     "output_type": "execute_result"
    }
   ],
   "execution_count": 8
  },
  {
   "metadata": {
    "ExecuteTime": {
     "end_time": "2024-05-24T11:47:25.912204Z",
     "start_time": "2024-05-24T11:47:25.905027Z"
    }
   },
   "cell_type": "code",
   "source": "train_df.drop(\"Utilities\", axis=1, inplace=True)",
   "id": "f4ccfe5fb84c767b",
   "outputs": [],
   "execution_count": 9
  },
  {
   "metadata": {
    "ExecuteTime": {
     "end_time": "2024-05-24T11:47:26.616120Z",
     "start_time": "2024-05-24T11:47:26.590891Z"
    }
   },
   "cell_type": "code",
   "source": [
    "train_df[\"LotFrontage\"] = train_df.groupby([\"Neighborhood\",\"MSZoning\"])[\"LotFrontage\"].transform(lambda x:x.fillna(x.mean()))\n",
    "train_df[\"LotFrontage\"] = train_df.groupby(\"Neighborhood\")[\"LotFrontage\"].transform(lambda x:x.fillna(x.mean()))\n",
    "train_df.dropna(subset=\"Electrical\",axis=0,inplace=True)"
   ],
   "id": "22ed837b69555d3a",
   "outputs": [],
   "execution_count": 10
  },
  {
   "metadata": {},
   "cell_type": "markdown",
   "source": "<h2>preprocessing data</h2>",
   "id": "469146929a1ccb85"
  },
  {
   "metadata": {
    "ExecuteTime": {
     "end_time": "2024-05-24T11:47:27.810384Z",
     "start_time": "2024-05-24T11:47:27.803335Z"
    }
   },
   "cell_type": "code",
   "source": [
    "from sklearn.pipeline import Pipeline\n",
    "from sklearn.preprocessing import StandardScaler, MinMaxScaler, FunctionTransformer, OneHotEncoder\n",
    "from sklearn.compose import ColumnTransformer\n",
    "from sklearn.impute import SimpleImputer\n",
    "from sklearn.model_selection import train_test_split"
   ],
   "id": "1499752073a5247f",
   "outputs": [],
   "execution_count": 11
  },
  {
   "metadata": {
    "ExecuteTime": {
     "end_time": "2024-05-24T11:47:28.434118Z",
     "start_time": "2024-05-24T11:47:28.420613Z"
    }
   },
   "cell_type": "code",
   "source": [
    "X = train_df.drop(\"SalePrice\",axis=1)\n",
    "y = np.log(train_df[\"SalePrice\"])\n",
    "# y = train_df[\"SalePrice\"]\n",
    "X_train,X_val,y_train,y_val = train_test_split(X,y,test_size=0.2,random_state=42)"
   ],
   "id": "c1509ca8c5f40228",
   "outputs": [],
   "execution_count": 12
  },
  {
   "metadata": {
    "ExecuteTime": {
     "end_time": "2024-05-24T11:47:38.496150Z",
     "start_time": "2024-05-24T11:47:38.490933Z"
    }
   },
   "cell_type": "code",
   "source": [
    "categorical_columns = X_train.select_dtypes(include=[\"object\",\"category\"]).columns\n",
    "numerical_columns = X_train.select_dtypes(exclude=[\"object\",\"category\"]).columns"
   ],
   "id": "c730ea012c9a737c",
   "outputs": [],
   "execution_count": 13
  },
  {
   "metadata": {
    "ExecuteTime": {
     "end_time": "2024-05-24T11:47:39.770190Z",
     "start_time": "2024-05-24T11:47:39.767069Z"
    }
   },
   "cell_type": "code",
   "source": [
    "numerical_transformer = Pipeline([\n",
    "    (\"imputer\", SimpleImputer(strategy=\"constant\",fill_value=0)),\n",
    "    (\"scaler\", StandardScaler()),\n",
    "])\n",
    "categorical_transformer = Pipeline([\n",
    "    (\"imputer\",SimpleImputer(strategy=\"constant\",fill_value=\"None\")),\n",
    "    (\"onehot\", OneHotEncoder(handle_unknown=\"ignore\",sparse_output =False)),\n",
    "])"
   ],
   "id": "4832f71ab7187f4a",
   "outputs": [],
   "execution_count": 14
  },
  {
   "metadata": {
    "ExecuteTime": {
     "end_time": "2024-05-24T11:47:41.376145Z",
     "start_time": "2024-05-24T11:47:41.370398Z"
    }
   },
   "cell_type": "code",
   "source": [
    "preprocessor = ColumnTransformer([\n",
    "    (\"num\",numerical_transformer,numerical_columns),\n",
    "    (\"cat\",categorical_transformer,categorical_columns)\n",
    "],remainder=\"passthrough\")"
   ],
   "id": "ab809d7885cc1021",
   "outputs": [],
   "execution_count": 15
  },
  {
   "metadata": {
    "ExecuteTime": {
     "end_time": "2024-05-24T11:47:41.802961Z",
     "start_time": "2024-05-24T11:47:41.799682Z"
    }
   },
   "cell_type": "code",
   "source": [
    "pipeline = Pipeline([\n",
    "    (\"preprocessor\",preprocessor)\n",
    "])"
   ],
   "id": "cd8193d64cda8e7d",
   "outputs": [],
   "execution_count": 16
  },
  {
   "metadata": {
    "ExecuteTime": {
     "end_time": "2024-05-24T11:47:42.731764Z",
     "start_time": "2024-05-24T11:47:42.703789Z"
    }
   },
   "cell_type": "code",
   "source": [
    "X_train_preprocessed = pipeline.fit_transform(X_train)\n",
    "X_val_preprocessed = pipeline.transform(X_val)"
   ],
   "id": "80950bf4b99a3297",
   "outputs": [],
   "execution_count": 17
  },
  {
   "metadata": {},
   "cell_type": "markdown",
   "source": "<h3>Base features pred</h3>",
   "id": "43e833953c319207"
  },
  {
   "metadata": {
    "ExecuteTime": {
     "end_time": "2024-05-24T11:47:43.810798Z",
     "start_time": "2024-05-24T11:47:43.536477Z"
    }
   },
   "cell_type": "code",
   "source": [
    "from sklearn.svm import LinearSVR,SVR\n",
    "from sklearn.ensemble import RandomForestRegressor,GradientBoostingRegressor,StackingRegressor,AdaBoostRegressor\n",
    "from sklearn.linear_model import ElasticNet\n",
    "from sklearn.metrics import mean_absolute_error,root_mean_squared_error,accuracy_score\n",
    "from sklearn.model_selection import GridSearchCV,KFold\n",
    "from sklearn.neighbors import KNeighborsRegressor\n",
    "from sklearn.decomposition import PCA"
   ],
   "id": "c3f76092d3b34fea",
   "outputs": [],
   "execution_count": 18
  },
  {
   "metadata": {
    "ExecuteTime": {
     "end_time": "2024-05-24T11:47:44.590223Z",
     "start_time": "2024-05-24T11:47:44.584177Z"
    }
   },
   "cell_type": "code",
   "source": [
    "models = {\n",
    "    \"ElasticNet\": ElasticNet(random_state=42),\n",
    "    \"RandomForest\": RandomForestRegressor(random_state=42,n_jobs=-2),\n",
    "    \"XGBoost\":GradientBoostingRegressor(random_state=42),\n",
    "    \"SVR\":SVR(),\n",
    "    \"KNN\":KNeighborsRegressor(),\n",
    "    \"Ada\":AdaBoostRegressor(random_state=42)\n",
    "}\n",
    "param_grids = {\n",
    "    \"ElasticNet\":{\n",
    "        \"alpha\": np.logspace(0,100,10),\n",
    "        \"l1_ratio\":np.linspace(.5,1,10)\n",
    "    },\n",
    "    \"RandomForest\":{\n",
    "        \"n_estimators\":[200,300,350,400],\n",
    "        # \"min_samples_split\":[2,3,4],\n",
    "        \"min_samples_split\":[2],\n",
    "        \"min_samples_leaf\":[1,2],\n",
    "        \"max_depth\":[None,10],\n",
    "    },\n",
    "    \"XGBoost\":{\n",
    "        # \"learning_rate\":[0.01,0.08,0.09,0.1,0.2],\n",
    "        \"learning_rate\":[0.08,0.09],\n",
    "        \"n_estimators\":[300,350,400],\n",
    "        # \"min_samples_split\":[2,10,15],\n",
    "        \"min_samples_split\":[2,5],\n",
    "        \"max_depth\":[3,4],\n",
    "    },\n",
    "    \"SVR\":{\n",
    "        # \"kernel\":[\"linear\", \"poly\", \"rbf\",],\n",
    "        \"kernel\":[\"rbf\"],\n",
    "        # \"gamma\":[\"scale\",\"auto\"],\n",
    "        \"gamma\":[\"auto\"],\n",
    "        # \"C\":[.1,1.5,10,80,100],\n",
    "        \"C\":[0.1,0.7,1,1.5],\n",
    "        \"epsilon\":[0.07,0.08,0.1],\n",
    "    },\n",
    "    \"KNN\":{\n",
    "        \"n_neighbors\":np.arange(1,30)\n",
    "    },\n",
    "    \"Ada\":{\n",
    "        \"loss\" : ['linear','exponential'],\n",
    "        \"n_estimators\":[500,600],\n",
    "        \"learning_rate\":[1.0,4,5,8],\n",
    "    }\n",
    "}"
   ],
   "id": "dfbaabcbe0c53aac",
   "outputs": [],
   "execution_count": 19
  },
  {
   "metadata": {
    "ExecuteTime": {
     "end_time": "2024-05-24T11:47:45.841786Z",
     "start_time": "2024-05-24T11:47:45.838562Z"
    }
   },
   "cell_type": "code",
   "source": "cv = KFold(n_splits=5,shuffle=True,random_state=42)",
   "id": "625673727871990e",
   "outputs": [],
   "execution_count": 20
  },
  {
   "metadata": {
    "ExecuteTime": {
     "end_time": "2024-05-24T11:52:15.752279Z",
     "start_time": "2024-05-24T11:47:50.990623Z"
    }
   },
   "cell_type": "code",
   "source": [
    "grids = {}\n",
    "for model_name, model in models.items():\n",
    "    grids[model_name] = GridSearchCV(model,param_grids[model_name],cv=cv,scoring='neg_mean_squared_error',n_jobs=-2)\n",
    "    grids[model_name].fit(X_train_preprocessed,y_train)\n",
    "    best_params = grids[model_name].best_params_\n",
    "    best_score = np.sqrt(-1 * grids[model_name].best_score_)\n",
    "    print(f\"Best parameters for {model_name}: {best_params}\")\n",
    "    print(f\"Best RMSE for {model_name}: {best_score}\\n\")"
   ],
   "id": "54d2292ca7653ba9",
   "outputs": [
    {
     "name": "stdout",
     "output_type": "stream",
     "text": [
      "Best parameters for ElasticNet: {'alpha': 1.0, 'l1_ratio': 0.5}\n",
      "Best RMSE for ElasticNet: 0.3956761919827401\n",
      "\n",
      "Best parameters for RandomForest: {'max_depth': None, 'min_samples_leaf': 2, 'min_samples_split': 2, 'n_estimators': 400}\n",
      "Best RMSE for RandomForest: 0.13974646761602766\n",
      "\n",
      "Best parameters for XGBoost: {'learning_rate': 0.08, 'max_depth': 3, 'min_samples_split': 2, 'n_estimators': 400}\n",
      "Best RMSE for XGBoost: 0.12106129775384859\n",
      "\n",
      "Best parameters for SVR: {'C': 1, 'epsilon': 0.07, 'gamma': 'auto', 'kernel': 'rbf'}\n",
      "Best RMSE for SVR: 0.11752158667808911\n",
      "\n",
      "Best parameters for KNN: {'n_neighbors': 15}\n",
      "Best RMSE for KNN: 0.16427148585184834\n",
      "\n",
      "Best parameters for Ada: {'learning_rate': 4, 'loss': 'exponential', 'n_estimators': 600}\n",
      "Best RMSE for Ada: 0.15748570296100853\n",
      "\n"
     ]
    }
   ],
   "execution_count": 21
  },
  {
   "metadata": {},
   "cell_type": "markdown",
   "source": "<h2>Creating featured columns</h2>",
   "id": "9d43e5ef8eaaa798"
  },
  {
   "metadata": {
    "ExecuteTime": {
     "end_time": "2024-05-24T12:27:29.831294Z",
     "start_time": "2024-05-24T12:27:29.820742Z"
    }
   },
   "cell_type": "code",
   "source": [
    "def get_target_mean_columns(X1,X2):\n",
    "    \n",
    "    df_train = pd.concat([X1,y_train],axis=1)\n",
    "    df_valid = X2.copy()\n",
    "    \n",
    "    df_train[\"YrMoSoldMeanEncoded\"] = df_train[\"YrSold\"].apply(str) + \"-\" + df_train[\"MoSold\"].apply(str)\n",
    "    df_valid[\"YrMoSoldMeanEncoded\"] = df_valid[\"YrSold\"].apply(str) + \"-\" + df_valid[\"MoSold\"].apply(str)\n",
    "    dt = df_train.groupby([\"YrMoSoldMeanEncoded\"])[\"SalePrice\"].agg([\"mean\"]).reset_index(drop=False)\n",
    "    df_train[\"YrMoSoldMeanEncoded\"] = df_train.merge(dt, on=\"YrMoSoldMeanEncoded\",how=\"left\")[\"mean\"].values\n",
    "    df_valid[\"YrMoSoldMeanEncoded\"] = df_valid.merge(dt, on=\"YrMoSoldMeanEncoded\",how=\"left\")[\"mean\"].values\n",
    "    \n",
    "    df_train[\"ContourSlopeMeanEncoded\"] = df_train[\"LandContour\"].apply(str) + \"-\" + df_train[\"LandSlope\"].apply(str)\n",
    "    df_valid[\"ContourSlopeMeanEncoded\"] = df_valid[\"LandContour\"].apply(str) + \"-\" + df_valid[\"LandSlope\"].apply(str)\n",
    "    dt = df_train.groupby([\"ContourSlopeMeanEncoded\"])[\"SalePrice\"].agg([\"mean\"])\n",
    "    df_train[\"ContourSlopeMeanEncoded\"] = df_train.merge(dt,on=[\"ContourSlopeMeanEncoded\"],how=\"left\")[\"mean\"].values\n",
    "    df_valid[\"ContourSlopeMeanEncoded\"] = df_valid.merge(dt,on=[\"ContourSlopeMeanEncoded\"],how=\"left\")[\"mean\"].values\n",
    "    \n",
    "    df_train[\"ExterQualCondMeanEncoded\"] = df_train[\"ExterQual\"].apply(str) + \"-\" + df_train[\"ExterCond\"].apply(str)\n",
    "    df_valid[\"ExterQualCondMeanEncoded\"] = df_valid[\"ExterQual\"].apply(str) + \"-\" + df_valid[\"ExterCond\"].apply(str)\n",
    "    dt = df_train.groupby([\"ExterQualCondMeanEncoded\"])[\"SalePrice\"].agg([\"mean\"])\n",
    "    df_train[\"ExterQualCondMeanEncoded\"] = df_train.merge(dt,on=[\"ExterQualCondMeanEncoded\"],how=\"left\")[\"mean\"].values\n",
    "    df_valid[\"ExterQualCondMeanEncoded\"] = df_valid.merge(dt,on=[\"ExterQualCondMeanEncoded\"],how=\"left\")[\"mean\"].values\n",
    "    \n",
    "    df_train[\"HeatingHeatQCMeanEncoded\"] = df_train[\"Heating\"].apply(str) + \"-\" + df_train[\"HeatingQC\"].apply(str)\n",
    "    df_valid[\"HeatingHeatQCMeanEncoded\"] = df_valid[\"Heating\"].apply(str) + \"-\" + df_valid[\"HeatingQC\"].apply(str)\n",
    "    dt = df_train.groupby([\"HeatingHeatQCMeanEncoded\"])[\"SalePrice\"].agg([\"mean\"])\n",
    "    df_train[\"HeatingHeatQCMeanEncoded\"] = df_train.merge(dt,on=[\"HeatingHeatQCMeanEncoded\"],how=\"left\")[\"mean\"].values\n",
    "    df_valid[\"HeatingHeatQCMeanEncoded\"] = df_valid.merge(dt,on=[\"HeatingHeatQCMeanEncoded\"],how=\"left\")[\"mean\"].values\n",
    "    \n",
    "    df_train[\"FirePlacesFQuMeanEncoded\"] = df_train[\"Fireplaces\"].apply(str) + \"-\" + df_train[\"FireplaceQu\"].apply(str)\n",
    "    df_valid[\"FirePlacesFQuMeanEncoded\"] = df_valid[\"Fireplaces\"].apply(str) + \"-\" + df_valid[\"FireplaceQu\"].apply(str)\n",
    "    dt = df_train.groupby([\"FirePlacesFQuMeanEncoded\"])[\"SalePrice\"].agg([\"mean\"])\n",
    "    df_train[\"FirePlacesFQuMeanEncoded\"] = df_train.merge(dt,on=[\"FirePlacesFQuMeanEncoded\"],how=\"left\")[\"mean\"].values\n",
    "    df_valid[\"FirePlacesFQuMeanEncoded\"] = df_valid.merge(dt,on=[\"FirePlacesFQuMeanEncoded\"],how=\"left\")[\"mean\"].values\n",
    "    \n",
    "    dt = df_train.groupby(\"Neighborhood\")[\"SalePrice\"].agg([\"mean\"])\n",
    "    df_train[\"NeighborhoodMeanEncoded\"] = df_train.merge(dt,on=[\"Neighborhood\"],how=\"left\")[\"mean\"].values\n",
    "    df_valid[\"NeighborhoodMeanEncoded\"] = df_valid.merge(dt,on=[\"Neighborhood\"],how=\"left\")[\"mean\"].values\n",
    "    X_train_mean_encoded = df_train.drop(\"SalePrice\",axis=1)\n",
    "    X_valid_mean_encoded = df_valid\n",
    "    return X_train_mean_encoded, X_valid_mean_encoded"
   ],
   "id": "45e0e7fa6810b580",
   "outputs": [],
   "execution_count": 69
  },
  {
   "metadata": {
    "ExecuteTime": {
     "end_time": "2024-05-24T12:27:33.657115Z",
     "start_time": "2024-05-24T12:27:33.620867Z"
    }
   },
   "cell_type": "code",
   "source": "X_train_mean_encoded,X_val_mean_encoded = get_target_mean_columns(X_train,X_val)",
   "id": "c339970e84e51d44",
   "outputs": [],
   "execution_count": 70
  },
  {
   "metadata": {
    "ExecuteTime": {
     "end_time": "2024-05-24T11:52:29.323729Z",
     "start_time": "2024-05-24T11:52:29.310799Z"
    }
   },
   "cell_type": "code",
   "source": [
    "def custom_features(df):\n",
    "    df_out = df.copy()\n",
    "    remod_cat = []\n",
    "    shed_val = []\n",
    "    for i,row in df_out.iterrows():\n",
    "        if row[\"YearRemodAdd\"] - row[\"YearBuilt\"] == 0:\n",
    "            remod_cat.append(0)\n",
    "        elif row[\"YearRemodAdd\"] - row[\"YearBuilt\"] <= 5:\n",
    "            remod_cat.append(1)\n",
    "        elif row[\"YearRemodAdd\"] - row[\"YearBuilt\"] <= 15:\n",
    "            remod_cat.append(2)\n",
    "        elif row[\"YearRemodAdd\"] - row[\"YearBuilt\"] <= 30:\n",
    "            remod_cat.append(3)\n",
    "        else:\n",
    "            remod_cat.append(4)\n",
    "        if row[\"3SsnPorch\"] > 0:\n",
    "            row[\"ScreenPorch\"] = row[\"3SsnPorch\"]\n",
    "            \n",
    "        if row[\"MiscFeature\"] == \"Shed\":\n",
    "            shed_val.append(row[\"MiscVal\"])\n",
    "        else:\n",
    "            shed_val.append(0)\n",
    "        \n",
    "    df_out[\"Age\"] = df_out[\"YrSold\"] - df_out[\"YearBuilt\"]\n",
    "    df_out[\"HasBsmtBath\"] = ((df_out[\"BsmtFullBath\"] > 0) | (df_out[\"BsmtHalfBath\"] > 0)).astype(object)\n",
    "    df_out[\"NonBedroomRoomsAbvGrd\"] = df_out[\"TotRmsAbvGrd\"] - df_out[\"BedroomAbvGr\"]\n",
    "    df_out[\"HasGarage\"] = (df_out[\"GarageArea\"] > 0).astype(object)\n",
    "    df_out[\"HasBsmt\"] = (df_out[\"TotalBsmtSF\"] > 0).astype(object)\n",
    "    df_out[\"Has2ndFloor\"] = (df_out[\"2ndFlrSF\"] > 0).astype(object)\n",
    "    df_out[\"YrSold_cat\"] = df_out[\"YrSold\"].astype(object)\n",
    "    df_out[\"MoSold_cat\"] = df_out[\"MoSold\"].astype(object)\n",
    "    df_out[\"YearBuilt_cat\"] = df_out[\"YearBuilt\"].astype(object)\n",
    "    df_out[\"MSSubClass_cat\"] = df_out[\"MSSubClass\"].astype(object)\n",
    "    df_out[\"RemodCat\"] = remod_cat\n",
    "    df_out[\"RemodCat\"] = df_out[\"RemodCat\"].astype(object)\n",
    "    df_out[\"ShedVal\"] = shed_val\n",
    "    df_out.drop(\"3SsnPorch\",axis=1,inplace=True)\n",
    "    df_out.drop(\"MiscVal\",axis=1,inplace=True)\n",
    "    return df_out\n",
    "feature_engineering_transformer = FunctionTransformer(custom_features)"
   ],
   "id": "63d0d95c8c4cca1d",
   "outputs": [],
   "execution_count": 24
  },
  {
   "metadata": {
    "ExecuteTime": {
     "end_time": "2024-05-24T11:52:30.402729Z",
     "start_time": "2024-05-24T11:52:30.392249Z"
    }
   },
   "cell_type": "code",
   "source": [
    "new_cols_categorical = pd.Index([\"HasBsmtBath\",\"YrSold_cat\",\"MoSold_cat\",\"YearBuilt_cat\",\"MSSubClass_cat\",\"RemodCat\",\"Has2ndFloor\",\"HasBsmt\",\"HasGarage\",])\n",
    "new_cols_numerical = pd.Index([\"Age\",\"ShedVal\",\"NonBedroomRoomsAbvGrd\"])\n",
    "categorical_columns = X_train_mean_encoded.drop([\"MiscVal\",\"3SsnPorch\"],axis=1).select_dtypes(include=[\"object\",\"category\"]).columns.append(new_cols_categorical)\n",
    "numerical_columns = X_train_mean_encoded.drop([\"3SsnPorch\",\"MiscVal\"],axis=1).select_dtypes(exclude=[\"object\",\"category\"]).columns.append(new_cols_numerical)"
   ],
   "id": "615ac06bcd44d1b6",
   "outputs": [],
   "execution_count": 25
  },
  {
   "metadata": {
    "ExecuteTime": {
     "end_time": "2024-05-24T11:52:30.966125Z",
     "start_time": "2024-05-24T11:52:30.962599Z"
    }
   },
   "cell_type": "code",
   "source": [
    "preprocessor = ColumnTransformer([\n",
    "    (\"num\",numerical_transformer,numerical_columns),\n",
    "    (\"cat\",categorical_transformer,categorical_columns)\n",
    "],remainder=\"passthrough\")"
   ],
   "id": "13176f5840b2b323",
   "outputs": [],
   "execution_count": 26
  },
  {
   "metadata": {
    "ExecuteTime": {
     "end_time": "2024-05-24T11:52:32.537543Z",
     "start_time": "2024-05-24T11:52:32.531195Z"
    }
   },
   "cell_type": "code",
   "source": [
    "pipeline_fe = Pipeline([\n",
    "    (\"fe\",feature_engineering_transformer),\n",
    "    (\"preprocessor\",preprocessor),\n",
    "])"
   ],
   "id": "c399a88a390120d",
   "outputs": [],
   "execution_count": 27
  },
  {
   "metadata": {
    "ExecuteTime": {
     "end_time": "2024-05-24T11:52:33.737644Z",
     "start_time": "2024-05-24T11:52:33.649464Z"
    }
   },
   "cell_type": "code",
   "source": [
    "X_train_fe_preprocessed = pipeline_fe.fit_transform(X_train_mean_encoded)\n",
    "X_val_fe_preprocessed = pipeline_fe.transform(X_val_mean_encoded)"
   ],
   "id": "9bee72c8f19e4679",
   "outputs": [],
   "execution_count": 28
  },
  {
   "metadata": {},
   "cell_type": "markdown",
   "source": "<h3>finding hyperparameters</h3>",
   "id": "a2a7e9d84683d78"
  },
  {
   "metadata": {
    "ExecuteTime": {
     "end_time": "2024-05-24T11:56:44.971591Z",
     "start_time": "2024-05-24T11:52:35.559453Z"
    }
   },
   "cell_type": "code",
   "source": [
    "grids = {}\n",
    "for model_name, model in models.items():\n",
    "    grids[model_name] = GridSearchCV(model,param_grids[model_name],cv=cv,scoring='neg_mean_squared_error',n_jobs=-2)\n",
    "    grids[model_name].fit(X_train_fe_preprocessed,y_train)\n",
    "    best_params = grids[model_name].best_params_\n",
    "    best_score = np.sqrt(-1 * grids[model_name].best_score_)\n",
    "    print(f\"Best parameters for {model_name}: {best_params}\")\n",
    "    print(f\"Best RMSE for {model_name}: {best_score}\\n\")"
   ],
   "id": "92ed36352a50e096",
   "outputs": [
    {
     "name": "stdout",
     "output_type": "stream",
     "text": [
      "Best parameters for ElasticNet: {'alpha': 1.0, 'l1_ratio': 0.5}\n",
      "Best RMSE for ElasticNet: 0.3956761919827401\n",
      "\n",
      "Best parameters for RandomForest: {'max_depth': None, 'min_samples_leaf': 2, 'min_samples_split': 2, 'n_estimators': 400}\n",
      "Best RMSE for RandomForest: 0.13730683746497377\n",
      "\n",
      "Best parameters for XGBoost: {'learning_rate': 0.09, 'max_depth': 3, 'min_samples_split': 2, 'n_estimators': 350}\n",
      "Best RMSE for XGBoost: 0.12151664619314677\n",
      "\n",
      "Best parameters for SVR: {'C': 1.5, 'epsilon': 0.07, 'gamma': 'auto', 'kernel': 'rbf'}\n",
      "Best RMSE for SVR: 0.11410775154143743\n",
      "\n",
      "Best parameters for KNN: {'n_neighbors': 7}\n",
      "Best RMSE for KNN: 0.16353761885119725\n",
      "\n",
      "Best parameters for Ada: {'learning_rate': 5, 'loss': 'exponential', 'n_estimators': 600}\n",
      "Best RMSE for Ada: 0.15143689522894868\n",
      "\n"
     ]
    }
   ],
   "execution_count": 29
  },
  {
   "metadata": {},
   "cell_type": "markdown",
   "source": "<h3>testing with pca</h3>",
   "id": "af5e031947973bad"
  },
  {
   "metadata": {
    "ExecuteTime": {
     "end_time": "2024-05-24T11:56:50.611100Z",
     "start_time": "2024-05-24T11:56:50.605860Z"
    }
   },
   "cell_type": "code",
   "source": [
    "pipeline_fe_pca = Pipeline([\n",
    "    (\"fe\",feature_engineering_transformer),\n",
    "    (\"preprocessor\",preprocessor),\n",
    "    (\"pca\",PCA(n_components=4,random_state=42))\n",
    "])"
   ],
   "id": "a056303fc4c22578",
   "outputs": [],
   "execution_count": 30
  },
  {
   "metadata": {
    "ExecuteTime": {
     "end_time": "2024-05-24T11:56:51.610641Z",
     "start_time": "2024-05-24T11:56:51.468254Z"
    }
   },
   "cell_type": "code",
   "source": [
    "X_train_fe_pca_preprocessed = pipeline_fe_pca.fit_transform(X_train_mean_encoded)\n",
    "X_val_fe_pca_preprocessed = pipeline_fe_pca.transform(X_val_mean_encoded)"
   ],
   "id": "488fb9e3a3b4ddfd",
   "outputs": [],
   "execution_count": 31
  },
  {
   "metadata": {
    "ExecuteTime": {
     "end_time": "2024-05-24T11:57:22.339509Z",
     "start_time": "2024-05-24T11:56:52.002672Z"
    }
   },
   "cell_type": "code",
   "source": [
    "grids = {}\n",
    "for model_name, model in models.items():\n",
    "    grids[model_name] = GridSearchCV(model,param_grids[model_name],cv=cv,scoring='neg_mean_squared_error',n_jobs=-2)\n",
    "    grids[model_name].fit(X_train_fe_pca_preprocessed,y_train)\n",
    "    best_params = grids[model_name].best_params_\n",
    "    best_score = np.sqrt(-1 * grids[model_name].best_score_)\n",
    "    print(f\"Best parameters for {model_name}: {best_params}\")\n",
    "    print(f\"Best RMSE for {model_name}: {best_score}\\n\")"
   ],
   "id": "fcb2f54d568cb327",
   "outputs": [
    {
     "name": "stdout",
     "output_type": "stream",
     "text": [
      "Best parameters for ElasticNet: {'alpha': 1.0, 'l1_ratio': 0.5}\n",
      "Best RMSE for ElasticNet: 0.2233227494258543\n",
      "\n",
      "Best parameters for RandomForest: {'max_depth': 10, 'min_samples_leaf': 2, 'min_samples_split': 2, 'n_estimators': 350}\n",
      "Best RMSE for RandomForest: 0.14611938064591926\n",
      "\n",
      "Best parameters for XGBoost: {'learning_rate': 0.08, 'max_depth': 3, 'min_samples_split': 5, 'n_estimators': 300}\n",
      "Best RMSE for XGBoost: 0.14842168729080868\n",
      "\n",
      "Best parameters for SVR: {'C': 1, 'epsilon': 0.07, 'gamma': 'auto', 'kernel': 'rbf'}\n",
      "Best RMSE for SVR: 0.17277036636337503\n",
      "\n",
      "Best parameters for KNN: {'n_neighbors': 11}\n",
      "Best RMSE for KNN: 0.15078180177329084\n",
      "\n",
      "Best parameters for Ada: {'learning_rate': 5, 'loss': 'exponential', 'n_estimators': 500}\n",
      "Best RMSE for Ada: 0.1565437869349402\n",
      "\n"
     ]
    }
   ],
   "execution_count": 32
  },
  {
   "metadata": {},
   "cell_type": "markdown",
   "source": "<h3>validating models</h3>",
   "id": "71a5c2a5a8d77e9f"
  },
  {
   "metadata": {
    "ExecuteTime": {
     "end_time": "2024-05-24T11:57:28.780099Z",
     "start_time": "2024-05-24T11:57:28.772628Z"
    }
   },
   "cell_type": "code",
   "source": [
    "tuned_models = {\n",
    "    \"RandomForest\":RandomForestRegressor(min_samples_leaf = 2,n_estimators=400,random_state=42,n_jobs=-2),\n",
    "    \"XGBoost\": GradientBoostingRegressor(n_estimators=350,learning_rate=.09,max_depth=3,min_samples_split=2,random_state=42),\n",
    "    \"SVR\":SVR(C=1.5,epsilon=0.08,gamma=\"auto\"),\n",
    "    # \"KNN\":KNeighborsRegressor(n_neighbors=11),\n",
    "}"
   ],
   "id": "f68e7863309477d1",
   "outputs": [],
   "execution_count": 33
  },
  {
   "metadata": {
    "ExecuteTime": {
     "end_time": "2024-05-24T11:57:34.789639Z",
     "start_time": "2024-05-24T11:57:29.546155Z"
    }
   },
   "cell_type": "code",
   "source": [
    "grids = {}\n",
    "for model_name,model in tuned_models.items():\n",
    "    grids[model_name] = model\n",
    "    grids[model_name].fit(X_train_fe_preprocessed,y_train)\n",
    "    pred = np.exp(grids[model_name].predict(X_val_fe_preprocessed))\n",
    "    print(f\"RMSE for {model_name} is {root_mean_squared_error(np.exp(y_val),pred)}\")"
   ],
   "id": "b8ad557581880853",
   "outputs": [
    {
     "name": "stdout",
     "output_type": "stream",
     "text": [
      "RMSE for RandomForest is 24733.762616888485\n",
      "RMSE for XGBoost is 21009.198249106594\n",
      "RMSE for SVR is 22896.336804123614\n"
     ]
    }
   ],
   "execution_count": 34
  },
  {
   "metadata": {},
   "cell_type": "markdown",
   "source": "<h3>creating a stacked regressor</h3>",
   "id": "dbecd2758abc7082"
  },
  {
   "metadata": {
    "ExecuteTime": {
     "end_time": "2024-05-24T11:57:52.908305Z",
     "start_time": "2024-05-24T11:57:38.422936Z"
    }
   },
   "cell_type": "code",
   "source": [
    "stacked_model = StackingRegressor([(model_name,model) for model_name,model in tuned_models.items()],n_jobs=-2)\n",
    "stacked_model.fit(X_train_fe_preprocessed,y_train)\n",
    "pred = np.exp(stacked_model.predict(X_val_fe_preprocessed))\n",
    "print(f\"RMSE: {root_mean_squared_error(np.exp(y_val),pred)}\")"
   ],
   "id": "2687c9fcef873f2f",
   "outputs": [
    {
     "name": "stdout",
     "output_type": "stream",
     "text": [
      "RMSE: 20959.373998492472\n"
     ]
    }
   ],
   "execution_count": 35
  },
  {
   "metadata": {},
   "cell_type": "markdown",
   "source": "<h3>predicting final test set</h3>",
   "id": "6174ee1282868134"
  },
  {
   "metadata": {
    "ExecuteTime": {
     "end_time": "2024-05-24T12:27:38.513713Z",
     "start_time": "2024-05-24T12:27:38.330793Z"
    }
   },
   "cell_type": "code",
   "source": [
    "df_test = pd.read_csv(\"test.csv\")\n",
    "X_full_mean_encoded, df_test_mean_encoded = get_target_mean_columns(X,df_test)\n",
    "X_full_fe_preprocessed = pipeline_fe.fit_transform(X_full_mean_encoded)\n",
    "df_test_fe_preprocessed = pipeline_fe.transform(df_test_mean_encoded)"
   ],
   "id": "de1f8cb8f0d50c3a",
   "outputs": [],
   "execution_count": 71
  },
  {
   "metadata": {
    "ExecuteTime": {
     "end_time": "2024-05-24T12:27:59.401715Z",
     "start_time": "2024-05-24T12:27:39.494773Z"
    }
   },
   "cell_type": "code",
   "source": [
    "# grids[\"XGBoost\"].fit(X_full_fe_preprocessed,y)\n",
    "stacked_model = StackingRegressor([(model_name,model) for model_name,model in tuned_models.items()],n_jobs=-2)\n",
    "stacked_model.fit(X_full_fe_preprocessed,y)"
   ],
   "id": "9fbb6b8af0caf225",
   "outputs": [
    {
     "data": {
      "text/plain": [
       "StackingRegressor(estimators=[('RandomForest',\n",
       "                               RandomForestRegressor(min_samples_leaf=2,\n",
       "                                                     n_estimators=400,\n",
       "                                                     n_jobs=-2,\n",
       "                                                     random_state=42)),\n",
       "                              ('XGBoost',\n",
       "                               GradientBoostingRegressor(learning_rate=0.09,\n",
       "                                                         n_estimators=350,\n",
       "                                                         random_state=42)),\n",
       "                              ('SVR', SVR(C=1.5, epsilon=0.08, gamma='auto'))],\n",
       "                  n_jobs=-2)"
      ],
      "text/html": [
       "<style>#sk-container-id-3 {\n",
       "  /* Definition of color scheme common for light and dark mode */\n",
       "  --sklearn-color-text: black;\n",
       "  --sklearn-color-line: gray;\n",
       "  /* Definition of color scheme for unfitted estimators */\n",
       "  --sklearn-color-unfitted-level-0: #fff5e6;\n",
       "  --sklearn-color-unfitted-level-1: #f6e4d2;\n",
       "  --sklearn-color-unfitted-level-2: #ffe0b3;\n",
       "  --sklearn-color-unfitted-level-3: chocolate;\n",
       "  /* Definition of color scheme for fitted estimators */\n",
       "  --sklearn-color-fitted-level-0: #f0f8ff;\n",
       "  --sklearn-color-fitted-level-1: #d4ebff;\n",
       "  --sklearn-color-fitted-level-2: #b3dbfd;\n",
       "  --sklearn-color-fitted-level-3: cornflowerblue;\n",
       "\n",
       "  /* Specific color for light theme */\n",
       "  --sklearn-color-text-on-default-background: var(--sg-text-color, var(--theme-code-foreground, var(--jp-content-font-color1, black)));\n",
       "  --sklearn-color-background: var(--sg-background-color, var(--theme-background, var(--jp-layout-color0, white)));\n",
       "  --sklearn-color-border-box: var(--sg-text-color, var(--theme-code-foreground, var(--jp-content-font-color1, black)));\n",
       "  --sklearn-color-icon: #696969;\n",
       "\n",
       "  @media (prefers-color-scheme: dark) {\n",
       "    /* Redefinition of color scheme for dark theme */\n",
       "    --sklearn-color-text-on-default-background: var(--sg-text-color, var(--theme-code-foreground, var(--jp-content-font-color1, white)));\n",
       "    --sklearn-color-background: var(--sg-background-color, var(--theme-background, var(--jp-layout-color0, #111)));\n",
       "    --sklearn-color-border-box: var(--sg-text-color, var(--theme-code-foreground, var(--jp-content-font-color1, white)));\n",
       "    --sklearn-color-icon: #878787;\n",
       "  }\n",
       "}\n",
       "\n",
       "#sk-container-id-3 {\n",
       "  color: var(--sklearn-color-text);\n",
       "}\n",
       "\n",
       "#sk-container-id-3 pre {\n",
       "  padding: 0;\n",
       "}\n",
       "\n",
       "#sk-container-id-3 input.sk-hidden--visually {\n",
       "  border: 0;\n",
       "  clip: rect(1px 1px 1px 1px);\n",
       "  clip: rect(1px, 1px, 1px, 1px);\n",
       "  height: 1px;\n",
       "  margin: -1px;\n",
       "  overflow: hidden;\n",
       "  padding: 0;\n",
       "  position: absolute;\n",
       "  width: 1px;\n",
       "}\n",
       "\n",
       "#sk-container-id-3 div.sk-dashed-wrapped {\n",
       "  border: 1px dashed var(--sklearn-color-line);\n",
       "  margin: 0 0.4em 0.5em 0.4em;\n",
       "  box-sizing: border-box;\n",
       "  padding-bottom: 0.4em;\n",
       "  background-color: var(--sklearn-color-background);\n",
       "}\n",
       "\n",
       "#sk-container-id-3 div.sk-container {\n",
       "  /* jupyter's `normalize.less` sets `[hidden] { display: none; }`\n",
       "     but bootstrap.min.css set `[hidden] { display: none !important; }`\n",
       "     so we also need the `!important` here to be able to override the\n",
       "     default hidden behavior on the sphinx rendered scikit-learn.org.\n",
       "     See: https://github.com/scikit-learn/scikit-learn/issues/21755 */\n",
       "  display: inline-block !important;\n",
       "  position: relative;\n",
       "}\n",
       "\n",
       "#sk-container-id-3 div.sk-text-repr-fallback {\n",
       "  display: none;\n",
       "}\n",
       "\n",
       "div.sk-parallel-item,\n",
       "div.sk-serial,\n",
       "div.sk-item {\n",
       "  /* draw centered vertical line to link estimators */\n",
       "  background-image: linear-gradient(var(--sklearn-color-text-on-default-background), var(--sklearn-color-text-on-default-background));\n",
       "  background-size: 2px 100%;\n",
       "  background-repeat: no-repeat;\n",
       "  background-position: center center;\n",
       "}\n",
       "\n",
       "/* Parallel-specific style estimator block */\n",
       "\n",
       "#sk-container-id-3 div.sk-parallel-item::after {\n",
       "  content: \"\";\n",
       "  width: 100%;\n",
       "  border-bottom: 2px solid var(--sklearn-color-text-on-default-background);\n",
       "  flex-grow: 1;\n",
       "}\n",
       "\n",
       "#sk-container-id-3 div.sk-parallel {\n",
       "  display: flex;\n",
       "  align-items: stretch;\n",
       "  justify-content: center;\n",
       "  background-color: var(--sklearn-color-background);\n",
       "  position: relative;\n",
       "}\n",
       "\n",
       "#sk-container-id-3 div.sk-parallel-item {\n",
       "  display: flex;\n",
       "  flex-direction: column;\n",
       "}\n",
       "\n",
       "#sk-container-id-3 div.sk-parallel-item:first-child::after {\n",
       "  align-self: flex-end;\n",
       "  width: 50%;\n",
       "}\n",
       "\n",
       "#sk-container-id-3 div.sk-parallel-item:last-child::after {\n",
       "  align-self: flex-start;\n",
       "  width: 50%;\n",
       "}\n",
       "\n",
       "#sk-container-id-3 div.sk-parallel-item:only-child::after {\n",
       "  width: 0;\n",
       "}\n",
       "\n",
       "/* Serial-specific style estimator block */\n",
       "\n",
       "#sk-container-id-3 div.sk-serial {\n",
       "  display: flex;\n",
       "  flex-direction: column;\n",
       "  align-items: center;\n",
       "  background-color: var(--sklearn-color-background);\n",
       "  padding-right: 1em;\n",
       "  padding-left: 1em;\n",
       "}\n",
       "\n",
       "\n",
       "/* Toggleable style: style used for estimator/Pipeline/ColumnTransformer box that is\n",
       "clickable and can be expanded/collapsed.\n",
       "- Pipeline and ColumnTransformer use this feature and define the default style\n",
       "- Estimators will overwrite some part of the style using the `sk-estimator` class\n",
       "*/\n",
       "\n",
       "/* Pipeline and ColumnTransformer style (default) */\n",
       "\n",
       "#sk-container-id-3 div.sk-toggleable {\n",
       "  /* Default theme specific background. It is overwritten whether we have a\n",
       "  specific estimator or a Pipeline/ColumnTransformer */\n",
       "  background-color: var(--sklearn-color-background);\n",
       "}\n",
       "\n",
       "/* Toggleable label */\n",
       "#sk-container-id-3 label.sk-toggleable__label {\n",
       "  cursor: pointer;\n",
       "  display: block;\n",
       "  width: 100%;\n",
       "  margin-bottom: 0;\n",
       "  padding: 0.5em;\n",
       "  box-sizing: border-box;\n",
       "  text-align: center;\n",
       "}\n",
       "\n",
       "#sk-container-id-3 label.sk-toggleable__label-arrow:before {\n",
       "  /* Arrow on the left of the label */\n",
       "  content: \"▸\";\n",
       "  float: left;\n",
       "  margin-right: 0.25em;\n",
       "  color: var(--sklearn-color-icon);\n",
       "}\n",
       "\n",
       "#sk-container-id-3 label.sk-toggleable__label-arrow:hover:before {\n",
       "  color: var(--sklearn-color-text);\n",
       "}\n",
       "\n",
       "/* Toggleable content - dropdown */\n",
       "\n",
       "#sk-container-id-3 div.sk-toggleable__content {\n",
       "  max-height: 0;\n",
       "  max-width: 0;\n",
       "  overflow: hidden;\n",
       "  text-align: left;\n",
       "  /* unfitted */\n",
       "  background-color: var(--sklearn-color-unfitted-level-0);\n",
       "}\n",
       "\n",
       "#sk-container-id-3 div.sk-toggleable__content.fitted {\n",
       "  /* fitted */\n",
       "  background-color: var(--sklearn-color-fitted-level-0);\n",
       "}\n",
       "\n",
       "#sk-container-id-3 div.sk-toggleable__content pre {\n",
       "  margin: 0.2em;\n",
       "  border-radius: 0.25em;\n",
       "  color: var(--sklearn-color-text);\n",
       "  /* unfitted */\n",
       "  background-color: var(--sklearn-color-unfitted-level-0);\n",
       "}\n",
       "\n",
       "#sk-container-id-3 div.sk-toggleable__content.fitted pre {\n",
       "  /* unfitted */\n",
       "  background-color: var(--sklearn-color-fitted-level-0);\n",
       "}\n",
       "\n",
       "#sk-container-id-3 input.sk-toggleable__control:checked~div.sk-toggleable__content {\n",
       "  /* Expand drop-down */\n",
       "  max-height: 200px;\n",
       "  max-width: 100%;\n",
       "  overflow: auto;\n",
       "}\n",
       "\n",
       "#sk-container-id-3 input.sk-toggleable__control:checked~label.sk-toggleable__label-arrow:before {\n",
       "  content: \"▾\";\n",
       "}\n",
       "\n",
       "/* Pipeline/ColumnTransformer-specific style */\n",
       "\n",
       "#sk-container-id-3 div.sk-label input.sk-toggleable__control:checked~label.sk-toggleable__label {\n",
       "  color: var(--sklearn-color-text);\n",
       "  background-color: var(--sklearn-color-unfitted-level-2);\n",
       "}\n",
       "\n",
       "#sk-container-id-3 div.sk-label.fitted input.sk-toggleable__control:checked~label.sk-toggleable__label {\n",
       "  background-color: var(--sklearn-color-fitted-level-2);\n",
       "}\n",
       "\n",
       "/* Estimator-specific style */\n",
       "\n",
       "/* Colorize estimator box */\n",
       "#sk-container-id-3 div.sk-estimator input.sk-toggleable__control:checked~label.sk-toggleable__label {\n",
       "  /* unfitted */\n",
       "  background-color: var(--sklearn-color-unfitted-level-2);\n",
       "}\n",
       "\n",
       "#sk-container-id-3 div.sk-estimator.fitted input.sk-toggleable__control:checked~label.sk-toggleable__label {\n",
       "  /* fitted */\n",
       "  background-color: var(--sklearn-color-fitted-level-2);\n",
       "}\n",
       "\n",
       "#sk-container-id-3 div.sk-label label.sk-toggleable__label,\n",
       "#sk-container-id-3 div.sk-label label {\n",
       "  /* The background is the default theme color */\n",
       "  color: var(--sklearn-color-text-on-default-background);\n",
       "}\n",
       "\n",
       "/* On hover, darken the color of the background */\n",
       "#sk-container-id-3 div.sk-label:hover label.sk-toggleable__label {\n",
       "  color: var(--sklearn-color-text);\n",
       "  background-color: var(--sklearn-color-unfitted-level-2);\n",
       "}\n",
       "\n",
       "/* Label box, darken color on hover, fitted */\n",
       "#sk-container-id-3 div.sk-label.fitted:hover label.sk-toggleable__label.fitted {\n",
       "  color: var(--sklearn-color-text);\n",
       "  background-color: var(--sklearn-color-fitted-level-2);\n",
       "}\n",
       "\n",
       "/* Estimator label */\n",
       "\n",
       "#sk-container-id-3 div.sk-label label {\n",
       "  font-family: monospace;\n",
       "  font-weight: bold;\n",
       "  display: inline-block;\n",
       "  line-height: 1.2em;\n",
       "}\n",
       "\n",
       "#sk-container-id-3 div.sk-label-container {\n",
       "  text-align: center;\n",
       "}\n",
       "\n",
       "/* Estimator-specific */\n",
       "#sk-container-id-3 div.sk-estimator {\n",
       "  font-family: monospace;\n",
       "  border: 1px dotted var(--sklearn-color-border-box);\n",
       "  border-radius: 0.25em;\n",
       "  box-sizing: border-box;\n",
       "  margin-bottom: 0.5em;\n",
       "  /* unfitted */\n",
       "  background-color: var(--sklearn-color-unfitted-level-0);\n",
       "}\n",
       "\n",
       "#sk-container-id-3 div.sk-estimator.fitted {\n",
       "  /* fitted */\n",
       "  background-color: var(--sklearn-color-fitted-level-0);\n",
       "}\n",
       "\n",
       "/* on hover */\n",
       "#sk-container-id-3 div.sk-estimator:hover {\n",
       "  /* unfitted */\n",
       "  background-color: var(--sklearn-color-unfitted-level-2);\n",
       "}\n",
       "\n",
       "#sk-container-id-3 div.sk-estimator.fitted:hover {\n",
       "  /* fitted */\n",
       "  background-color: var(--sklearn-color-fitted-level-2);\n",
       "}\n",
       "\n",
       "/* Specification for estimator info (e.g. \"i\" and \"?\") */\n",
       "\n",
       "/* Common style for \"i\" and \"?\" */\n",
       "\n",
       ".sk-estimator-doc-link,\n",
       "a:link.sk-estimator-doc-link,\n",
       "a:visited.sk-estimator-doc-link {\n",
       "  float: right;\n",
       "  font-size: smaller;\n",
       "  line-height: 1em;\n",
       "  font-family: monospace;\n",
       "  background-color: var(--sklearn-color-background);\n",
       "  border-radius: 1em;\n",
       "  height: 1em;\n",
       "  width: 1em;\n",
       "  text-decoration: none !important;\n",
       "  margin-left: 1ex;\n",
       "  /* unfitted */\n",
       "  border: var(--sklearn-color-unfitted-level-1) 1pt solid;\n",
       "  color: var(--sklearn-color-unfitted-level-1);\n",
       "}\n",
       "\n",
       ".sk-estimator-doc-link.fitted,\n",
       "a:link.sk-estimator-doc-link.fitted,\n",
       "a:visited.sk-estimator-doc-link.fitted {\n",
       "  /* fitted */\n",
       "  border: var(--sklearn-color-fitted-level-1) 1pt solid;\n",
       "  color: var(--sklearn-color-fitted-level-1);\n",
       "}\n",
       "\n",
       "/* On hover */\n",
       "div.sk-estimator:hover .sk-estimator-doc-link:hover,\n",
       ".sk-estimator-doc-link:hover,\n",
       "div.sk-label-container:hover .sk-estimator-doc-link:hover,\n",
       ".sk-estimator-doc-link:hover {\n",
       "  /* unfitted */\n",
       "  background-color: var(--sklearn-color-unfitted-level-3);\n",
       "  color: var(--sklearn-color-background);\n",
       "  text-decoration: none;\n",
       "}\n",
       "\n",
       "div.sk-estimator.fitted:hover .sk-estimator-doc-link.fitted:hover,\n",
       ".sk-estimator-doc-link.fitted:hover,\n",
       "div.sk-label-container:hover .sk-estimator-doc-link.fitted:hover,\n",
       ".sk-estimator-doc-link.fitted:hover {\n",
       "  /* fitted */\n",
       "  background-color: var(--sklearn-color-fitted-level-3);\n",
       "  color: var(--sklearn-color-background);\n",
       "  text-decoration: none;\n",
       "}\n",
       "\n",
       "/* Span, style for the box shown on hovering the info icon */\n",
       ".sk-estimator-doc-link span {\n",
       "  display: none;\n",
       "  z-index: 9999;\n",
       "  position: relative;\n",
       "  font-weight: normal;\n",
       "  right: .2ex;\n",
       "  padding: .5ex;\n",
       "  margin: .5ex;\n",
       "  width: min-content;\n",
       "  min-width: 20ex;\n",
       "  max-width: 50ex;\n",
       "  color: var(--sklearn-color-text);\n",
       "  box-shadow: 2pt 2pt 4pt #999;\n",
       "  /* unfitted */\n",
       "  background: var(--sklearn-color-unfitted-level-0);\n",
       "  border: .5pt solid var(--sklearn-color-unfitted-level-3);\n",
       "}\n",
       "\n",
       ".sk-estimator-doc-link.fitted span {\n",
       "  /* fitted */\n",
       "  background: var(--sklearn-color-fitted-level-0);\n",
       "  border: var(--sklearn-color-fitted-level-3);\n",
       "}\n",
       "\n",
       ".sk-estimator-doc-link:hover span {\n",
       "  display: block;\n",
       "}\n",
       "\n",
       "/* \"?\"-specific style due to the `<a>` HTML tag */\n",
       "\n",
       "#sk-container-id-3 a.estimator_doc_link {\n",
       "  float: right;\n",
       "  font-size: 1rem;\n",
       "  line-height: 1em;\n",
       "  font-family: monospace;\n",
       "  background-color: var(--sklearn-color-background);\n",
       "  border-radius: 1rem;\n",
       "  height: 1rem;\n",
       "  width: 1rem;\n",
       "  text-decoration: none;\n",
       "  /* unfitted */\n",
       "  color: var(--sklearn-color-unfitted-level-1);\n",
       "  border: var(--sklearn-color-unfitted-level-1) 1pt solid;\n",
       "}\n",
       "\n",
       "#sk-container-id-3 a.estimator_doc_link.fitted {\n",
       "  /* fitted */\n",
       "  border: var(--sklearn-color-fitted-level-1) 1pt solid;\n",
       "  color: var(--sklearn-color-fitted-level-1);\n",
       "}\n",
       "\n",
       "/* On hover */\n",
       "#sk-container-id-3 a.estimator_doc_link:hover {\n",
       "  /* unfitted */\n",
       "  background-color: var(--sklearn-color-unfitted-level-3);\n",
       "  color: var(--sklearn-color-background);\n",
       "  text-decoration: none;\n",
       "}\n",
       "\n",
       "#sk-container-id-3 a.estimator_doc_link.fitted:hover {\n",
       "  /* fitted */\n",
       "  background-color: var(--sklearn-color-fitted-level-3);\n",
       "}\n",
       "</style><div id=\"sk-container-id-3\" class=\"sk-top-container\"><div class=\"sk-text-repr-fallback\"><pre>StackingRegressor(estimators=[(&#x27;RandomForest&#x27;,\n",
       "                               RandomForestRegressor(min_samples_leaf=2,\n",
       "                                                     n_estimators=400,\n",
       "                                                     n_jobs=-2,\n",
       "                                                     random_state=42)),\n",
       "                              (&#x27;XGBoost&#x27;,\n",
       "                               GradientBoostingRegressor(learning_rate=0.09,\n",
       "                                                         n_estimators=350,\n",
       "                                                         random_state=42)),\n",
       "                              (&#x27;SVR&#x27;, SVR(C=1.5, epsilon=0.08, gamma=&#x27;auto&#x27;))],\n",
       "                  n_jobs=-2)</pre><b>In a Jupyter environment, please rerun this cell to show the HTML representation or trust the notebook. <br />On GitHub, the HTML representation is unable to render, please try loading this page with nbviewer.org.</b></div><div class=\"sk-container\" hidden><div class=\"sk-item sk-dashed-wrapped\"><div class=\"sk-label-container\"><div class=\"sk-label fitted sk-toggleable\"><input class=\"sk-toggleable__control sk-hidden--visually\" id=\"sk-estimator-id-11\" type=\"checkbox\" ><label for=\"sk-estimator-id-11\" class=\"sk-toggleable__label fitted sk-toggleable__label-arrow fitted\">&nbsp;&nbsp;StackingRegressor<a class=\"sk-estimator-doc-link fitted\" rel=\"noreferrer\" target=\"_blank\" href=\"https://scikit-learn.org/1.4/modules/generated/sklearn.ensemble.StackingRegressor.html\">?<span>Documentation for StackingRegressor</span></a><span class=\"sk-estimator-doc-link fitted\">i<span>Fitted</span></span></label><div class=\"sk-toggleable__content fitted\"><pre>StackingRegressor(estimators=[(&#x27;RandomForest&#x27;,\n",
       "                               RandomForestRegressor(min_samples_leaf=2,\n",
       "                                                     n_estimators=400,\n",
       "                                                     n_jobs=-2,\n",
       "                                                     random_state=42)),\n",
       "                              (&#x27;XGBoost&#x27;,\n",
       "                               GradientBoostingRegressor(learning_rate=0.09,\n",
       "                                                         n_estimators=350,\n",
       "                                                         random_state=42)),\n",
       "                              (&#x27;SVR&#x27;, SVR(C=1.5, epsilon=0.08, gamma=&#x27;auto&#x27;))],\n",
       "                  n_jobs=-2)</pre></div> </div></div><div class=\"sk-serial\"><div class=\"sk-item\"><div class=\"sk-parallel\"><div class=\"sk-parallel-item\"><div class=\"sk-item\"><div class=\"sk-label-container\"><div class=\"sk-label fitted sk-toggleable\"><label>RandomForest</label></div></div><div class=\"sk-serial\"><div class=\"sk-item\"><div class=\"sk-estimator fitted sk-toggleable\"><input class=\"sk-toggleable__control sk-hidden--visually\" id=\"sk-estimator-id-12\" type=\"checkbox\" ><label for=\"sk-estimator-id-12\" class=\"sk-toggleable__label fitted sk-toggleable__label-arrow fitted\">&nbsp;RandomForestRegressor<a class=\"sk-estimator-doc-link fitted\" rel=\"noreferrer\" target=\"_blank\" href=\"https://scikit-learn.org/1.4/modules/generated/sklearn.ensemble.RandomForestRegressor.html\">?<span>Documentation for RandomForestRegressor</span></a></label><div class=\"sk-toggleable__content fitted\"><pre>RandomForestRegressor(min_samples_leaf=2, n_estimators=400, n_jobs=-2,\n",
       "                      random_state=42)</pre></div> </div></div></div></div></div><div class=\"sk-parallel-item\"><div class=\"sk-item\"><div class=\"sk-label-container\"><div class=\"sk-label fitted sk-toggleable\"><label>XGBoost</label></div></div><div class=\"sk-serial\"><div class=\"sk-item\"><div class=\"sk-estimator fitted sk-toggleable\"><input class=\"sk-toggleable__control sk-hidden--visually\" id=\"sk-estimator-id-13\" type=\"checkbox\" ><label for=\"sk-estimator-id-13\" class=\"sk-toggleable__label fitted sk-toggleable__label-arrow fitted\">&nbsp;GradientBoostingRegressor<a class=\"sk-estimator-doc-link fitted\" rel=\"noreferrer\" target=\"_blank\" href=\"https://scikit-learn.org/1.4/modules/generated/sklearn.ensemble.GradientBoostingRegressor.html\">?<span>Documentation for GradientBoostingRegressor</span></a></label><div class=\"sk-toggleable__content fitted\"><pre>GradientBoostingRegressor(learning_rate=0.09, n_estimators=350, random_state=42)</pre></div> </div></div></div></div></div><div class=\"sk-parallel-item\"><div class=\"sk-item\"><div class=\"sk-label-container\"><div class=\"sk-label fitted sk-toggleable\"><label>SVR</label></div></div><div class=\"sk-serial\"><div class=\"sk-item\"><div class=\"sk-estimator fitted sk-toggleable\"><input class=\"sk-toggleable__control sk-hidden--visually\" id=\"sk-estimator-id-14\" type=\"checkbox\" ><label for=\"sk-estimator-id-14\" class=\"sk-toggleable__label fitted sk-toggleable__label-arrow fitted\">&nbsp;SVR<a class=\"sk-estimator-doc-link fitted\" rel=\"noreferrer\" target=\"_blank\" href=\"https://scikit-learn.org/1.4/modules/generated/sklearn.svm.SVR.html\">?<span>Documentation for SVR</span></a></label><div class=\"sk-toggleable__content fitted\"><pre>SVR(C=1.5, epsilon=0.08, gamma=&#x27;auto&#x27;)</pre></div> </div></div></div></div></div></div></div><div class=\"sk-item\"><div class=\"sk-parallel\"><div class=\"sk-parallel-item\"><div class=\"sk-item\"><div class=\"sk-label-container\"><div class=\"sk-label fitted sk-toggleable\"><label>final_estimator</label></div></div><div class=\"sk-serial\"><div class=\"sk-item\"><div class=\"sk-estimator fitted sk-toggleable\"><input class=\"sk-toggleable__control sk-hidden--visually\" id=\"sk-estimator-id-15\" type=\"checkbox\" ><label for=\"sk-estimator-id-15\" class=\"sk-toggleable__label fitted sk-toggleable__label-arrow fitted\">&nbsp;RidgeCV<a class=\"sk-estimator-doc-link fitted\" rel=\"noreferrer\" target=\"_blank\" href=\"https://scikit-learn.org/1.4/modules/generated/sklearn.linear_model.RidgeCV.html\">?<span>Documentation for RidgeCV</span></a></label><div class=\"sk-toggleable__content fitted\"><pre>RidgeCV()</pre></div> </div></div></div></div></div></div></div></div></div></div></div>"
      ]
     },
     "execution_count": 72,
     "metadata": {},
     "output_type": "execute_result"
    }
   ],
   "execution_count": 72
  },
  {
   "metadata": {
    "ExecuteTime": {
     "end_time": "2024-05-24T12:27:59.614581Z",
     "start_time": "2024-05-24T12:27:59.402241Z"
    }
   },
   "cell_type": "code",
   "source": [
    "# y_xgboost = np.exp(grids[\"XGBoost\"].predict(df_test_fe_preprocessed))\n",
    "y_stacked = np.exp(stacked_model.predict(df_test_fe_preprocessed))\n",
    "# y_xgboost = grids[\"XGBoost\"].predict(df_test_fe_preprocessed)\n",
    "df_xgboost_out = df_test[[\"Id\"]].copy()\n",
    "df_xgboost_out[\"SalePrice\"] = y_stacked"
   ],
   "id": "39f4fb8f25586760",
   "outputs": [],
   "execution_count": 73
  },
  {
   "metadata": {
    "ExecuteTime": {
     "end_time": "2024-05-24T12:28:01.678168Z",
     "start_time": "2024-05-24T12:28:01.670229Z"
    }
   },
   "cell_type": "code",
   "source": "df_xgboost_out.to_csv(\"submission_stacked_normalized_full_data_no_leakage.csv\",index=False)",
   "id": "870587a10d0f9c1e",
   "outputs": [],
   "execution_count": 74
  },
  {
   "metadata": {},
   "cell_type": "markdown",
   "source": "<h3>final score on kaggle: 0.13122</h3>",
   "id": "9be16b9cdc1dbb76"
  }
 ],
 "metadata": {
  "kernelspec": {
   "display_name": "Python 3",
   "language": "python",
   "name": "python3"
  },
  "language_info": {
   "codemirror_mode": {
    "name": "ipython",
    "version": 2
   },
   "file_extension": ".py",
   "mimetype": "text/x-python",
   "name": "python",
   "nbconvert_exporter": "python",
   "pygments_lexer": "ipython2",
   "version": "2.7.6"
  }
 },
 "nbformat": 4,
 "nbformat_minor": 5
}
